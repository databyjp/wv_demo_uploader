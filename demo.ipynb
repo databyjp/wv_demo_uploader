{
 "cells": [
  {
   "cell_type": "code",
   "execution_count": 1,
   "metadata": {
    "ExecuteTime": {
     "end_time": "2023-10-18T09:30:23.625178Z",
     "start_time": "2023-10-18T09:30:23.416598Z"
    }
   },
   "outputs": [],
   "source": [
    "import weaviate\n",
    "import os\n",
    "import json\n",
    "\n",
    "wv_url = \"http://localhost:8080\"\n",
    "api_key = os.environ.get(\"OPENAI_API_KEY\")\n",
    "\n",
    "client = weaviate.Client(\n",
    "    url=wv_url,\n",
    "    additional_headers={\"X-OpenAI-Api-Key\": api_key},\n",
    ")"
   ]
  },
  {
   "cell_type": "code",
   "execution_count": 2,
   "metadata": {
    "ExecuteTime": {
     "end_time": "2023-10-18T09:30:23.885136Z",
     "start_time": "2023-10-18T09:30:23.627871Z"
    }
   },
   "outputs": [
    {
     "name": "stdout",
     "output_type": "stream",
     "text": [
      "{'WineReview': False}\n",
      "[\n",
      "  {\n",
      "    \"class\": \"WineReview\",\n",
      "    \"vectorizer\": \"text2vec-openai\",\n",
      "    \"moduleConfig\": {\n",
      "      \"generative-openai\": {\n",
      "        \"model\": \"gpt-3.5-turbo\"\n",
      "      }\n",
      "    },\n",
      "    \"properties\": [\n",
      "      {\n",
      "        \"name\": \"review_body\",\n",
      "        \"dataType\": [\n",
      "          \"text\"\n",
      "        ],\n",
      "        \"description\": \"Review body\"\n",
      "      },\n",
      "      {\n",
      "        \"name\": \"title\",\n",
      "        \"dataType\": [\n",
      "          \"text\"\n",
      "        ],\n",
      "        \"description\": \"Name of the wine\"\n",
      "      },\n",
      "      {\n",
      "        \"name\": \"country\",\n",
      "        \"dataType\": [\n",
      "          \"text\"\n",
      "        ],\n",
      "        \"description\": \"Originating country\"\n",
      "      },\n",
      "      {\n",
      "        \"name\": \"points\",\n",
      "        \"dataType\": [\n",
      "          \"int\"\n",
      "        ],\n",
      "        \"description\": \"Review score in points\"\n",
      "      },\n",
      "      {\n",
      "        \"name\": \"price\",\n",
      "        \"dataType\": [\n",
      "          \"number\"\n",
      "        ],\n",
      "        \"description\": \"Listed price\"\n",
      "      }\n",
      "    ]\n",
      "  }\n",
      "]\n"
     ]
    }
   ],
   "source": [
    "import weaviate_datasets\n",
    "\n",
    "dataset = weaviate_datasets.WineReviews()  # Try JeopardyQuestions, WikiArticles, or WineReviews\n",
    "\n",
    "class_names = dataset.get_class_names()\n",
    "for c in class_names:\n",
    "    client.schema.delete_class(c)\n",
    "\n",
    "print(dataset.classes_in_schema(client))\n",
    "class_defs = dataset.get_class_definitions()\n",
    "print(json.dumps(class_defs, indent=2))"
   ]
  },
  {
   "cell_type": "code",
   "execution_count": 3,
   "metadata": {
    "ExecuteTime": {
     "end_time": "2023-10-18T09:30:25.712798Z",
     "start_time": "2023-10-18T09:30:23.903379Z"
    }
   },
   "outputs": [
    {
     "name": "stderr",
     "output_type": "stream",
     "text": [
      "50it [00:00, 10030.38it/s]\n"
     ]
    },
    {
     "data": {
      "text/plain": "True"
     },
     "execution_count": 3,
     "metadata": {},
     "output_type": "execute_result"
    }
   ],
   "source": [
    "dataset.add_to_schema(client)\n",
    "dataset.upload_objects(client, batch_size=100)"
   ]
  },
  {
   "cell_type": "code",
   "execution_count": 4,
   "metadata": {
    "ExecuteTime": {
     "end_time": "2023-10-18T09:30:25.721260Z",
     "start_time": "2023-10-18T09:30:25.716187Z"
    }
   },
   "outputs": [
    {
     "data": {
      "text/plain": "{'data': {'Get': {'WineReview': [{'title': 'White Oak 2009 Cabernet Sauvignon (Napa Valley)'},\n    {'title': 'Domaine Foretal 2015  Beaujolais-Villages'},\n    {'title': 'Château Rauzan-Ségla 2012  Margaux'},\n    {'title': 'Clos La Chance 2008 Whitestone Vineyard Cabernet Sauvignon (Central Coast)'},\n    {'title': 'Luigi Bosca 2005 D.O.C Single Vineyard Malbec (Luján de Cuyo)'}]}}}"
     },
     "execution_count": 4,
     "metadata": {},
     "output_type": "execute_result"
    }
   ],
   "source": [
    "client.query.get(dataset.get_class_names()[0], [\"title\"]).with_limit(5).do()"
   ]
  },
  {
   "cell_type": "code",
   "execution_count": 5,
   "metadata": {
    "ExecuteTime": {
     "end_time": "2023-10-18T09:30:25.729549Z",
     "start_time": "2023-10-18T09:30:25.723959Z"
    }
   },
   "outputs": [
    {
     "data": {
      "text/plain": "{'data': {'Aggregate': {'WineReview': [{'meta': {'count': 50}}]}}}"
     },
     "execution_count": 5,
     "metadata": {},
     "output_type": "execute_result"
    }
   ],
   "source": [
    "client.query.aggregate(dataset.get_class_names()[0]).with_meta_count().do()"
   ]
  },
  {
   "cell_type": "code",
   "execution_count": 5,
   "metadata": {
    "ExecuteTime": {
     "end_time": "2023-10-18T09:30:25.732269Z",
     "start_time": "2023-10-18T09:30:25.730715Z"
    }
   },
   "outputs": [],
   "source": []
  }
 ],
 "metadata": {
  "kernelspec": {
   "display_name": "base",
   "language": "python",
   "name": "python3"
  },
  "language_info": {
   "codemirror_mode": {
    "name": "ipython",
    "version": 3
   },
   "file_extension": ".py",
   "mimetype": "text/x-python",
   "name": "python",
   "nbconvert_exporter": "python",
   "pygments_lexer": "ipython3",
   "version": "3.10.8"
  },
  "orig_nbformat": 4,
  "vscode": {
   "interpreter": {
    "hash": "52c10b9b9466d1d7122ef52d86fb6b9d38af57f910664926db9874c532b73093"
   }
  }
 },
 "nbformat": 4,
 "nbformat_minor": 2
}
